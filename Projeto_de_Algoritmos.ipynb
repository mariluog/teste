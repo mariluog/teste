{
  "nbformat": 4,
  "nbformat_minor": 0,
  "metadata": {
    "colab": {
      "provenance": [],
      "authorship_tag": "ABX9TyN0TrKQTGlsVz6x2+ffPxVG",
      "include_colab_link": true
    },
    "kernelspec": {
      "name": "python3",
      "display_name": "Python 3"
    },
    "language_info": {
      "name": "python"
    }
  },
  "cells": [
    {
      "cell_type": "markdown",
      "metadata": {
        "id": "view-in-github",
        "colab_type": "text"
      },
      "source": [
        "<a href=\"https://colab.research.google.com/github/mariluog/teste/blob/main/Projeto_de_Algoritmos.ipynb\" target=\"_parent\"><img src=\"https://colab.research.google.com/assets/colab-badge.svg\" alt=\"Open In Colab\"/></a>"
      ]
    },
    {
      "cell_type": "markdown",
      "source": [
        "integrantes: maria luiza, ana julia e angelo\n",
        "\n",
        "ideias: site de apostas;\n",
        "\n",
        "jogo online (tetris)\n",
        "\n",
        "bingo online\n",
        "\n",
        "**programa para cálculo estrutural de empilhadeiras**\n",
        "\n",
        "**sistema de organização de estoque**\n",
        "\n",
        "**IA que prevê manutenção preventiva em máquinas**\n",
        "\n",
        "Aplicativo de Tarefas:\n",
        "Desenvolva um gerenciador de tarefas com funcionalidades para adicionar, remover e marcar tarefas como concluídas. Use uma interface gráfica com Tkinter ou uma API web com Flask.\n",
        "\n",
        "Analisador de Sentimentos:\n",
        "Crie um programa que analisa o sentimento de um texto (positivo, negativo ou neutro) usando bibliotecas como TextBlob ou NLTK.\n",
        "\n",
        "Gerador de Senhas:\n",
        "Crie um programa que gera senhas aleatórias com base em parâmetros definidos pelo usuário, como comprimento e complexidade.\n",
        "\n",
        "Simulador de Mercado Financeiro:\n",
        "Crie um simulador de mercado financeiro que permita aos usuários comprar e vender ações virtuais, simulando o mercado real.\n",
        "\n",
        "Bot de Chat Inteligente:\n",
        "Crie um chatbot usando processamento de linguagem natural (NLP) para interagir com os usuários e responder a perguntas comuns.\n",
        "\n",
        "Gerenciador de Inventário:\n",
        "Crie um sistema para controlar o estoque de produtos, permitindo adicionar, remover e listar itens.\n",
        "\n",
        "Sistema de Gerenciamento de Biblioteca:\n",
        "Desenvolva um sistema para gerenciar livros em uma biblioteca, incluindo funcionalidades para adicionar, remover, buscar e listar livros, e registrar empréstimos.\n",
        "\n",
        "Simulador de Loteria:\n",
        "Crie um programa que gera números aleatórios para um jogo de loteria e verifica se eles correspondem aos números sorteados.\n",
        "\n",
        "(extensões: .py e .ipynb)\n"
      ],
      "metadata": {
        "id": "7sZ2uKM09cBW"
      }
    },
    {
      "cell_type": "code",
      "execution_count": 4,
      "metadata": {
        "colab": {
          "base_uri": "https://localhost:8080/"
        },
        "id": "KIGdEyZX9V4g",
        "outputId": "d05880eb-b10f-4fe9-d8a4-f7fa3bc94ae9"
      },
      "outputs": [
        {
          "output_type": "stream",
          "name": "stdout",
          "text": [
            "5.0\n"
          ]
        }
      ],
      "source": [
        "# Importância dos tipos de variáveis\n",
        "a = 2\n",
        "b = 3\n",
        "soma = a + b\n",
        "print(soma)\n"
      ]
    },
    {
      "cell_type": "code",
      "source": [
        "a = 2\n",
        "print(type(a))\n",
        "b = 3\n",
        "print(type(b))\n",
        "soma = a + b\n",
        "print(type(soma))\n",
        "print(soma)"
      ],
      "metadata": {
        "colab": {
          "base_uri": "https://localhost:8080/"
        },
        "id": "9emy02-6HRnQ",
        "outputId": "61fa4e97-ddca-4a8f-950b-f67d583963c3"
      },
      "execution_count": 18,
      "outputs": [
        {
          "output_type": "stream",
          "name": "stdout",
          "text": [
            "<class 'int'>\n",
            "<class 'int'>\n",
            "<class 'int'>\n",
            "5\n"
          ]
        }
      ]
    },
    {
      "cell_type": "markdown",
      "source": [
        "### lembrar que sempre que quiser calcular é preciso informar que estou lidando com nº int ou float"
      ],
      "metadata": {
        "id": "LpAcIZZVJFE-"
      }
    },
    {
      "cell_type": "code",
      "source": [
        "num = int(input(\"Digite valor inteiro: \"))\n",
        "print(type(num))\n",
        "quoc = num//2\n",
        "resto = num%2\n",
        "print(quoc)"
      ],
      "metadata": {
        "colab": {
          "base_uri": "https://localhost:8080/",
          "height": 211
        },
        "id": "DxWSVxmuJPNO",
        "outputId": "5bba151f-2373-4868-fce4-66ba12f55a64"
      },
      "execution_count": 29,
      "outputs": [
        {
          "name": "stdout",
          "output_type": "stream",
          "text": [
            "Digite valor inteiro: 8\n"
          ]
        },
        {
          "output_type": "error",
          "ename": "TypeError",
          "evalue": "'int' object is not callable",
          "traceback": [
            "\u001b[0;31m---------------------------------------------------------------------------\u001b[0m",
            "\u001b[0;31mTypeError\u001b[0m                                 Traceback (most recent call last)",
            "\u001b[0;32m<ipython-input-29-2dd90abd735a>\u001b[0m in \u001b[0;36m<cell line: 2>\u001b[0;34m()\u001b[0m\n\u001b[1;32m      1\u001b[0m \u001b[0mnum\u001b[0m \u001b[0;34m=\u001b[0m \u001b[0mint\u001b[0m\u001b[0;34m(\u001b[0m\u001b[0minput\u001b[0m\u001b[0;34m(\u001b[0m\u001b[0;34m\"Digite valor inteiro: \"\u001b[0m\u001b[0;34m)\u001b[0m\u001b[0;34m)\u001b[0m\u001b[0;34m\u001b[0m\u001b[0;34m\u001b[0m\u001b[0m\n\u001b[0;32m----> 2\u001b[0;31m \u001b[0mprint\u001b[0m\u001b[0;34m(\u001b[0m\u001b[0mtype\u001b[0m\u001b[0;34m(\u001b[0m\u001b[0mnum\u001b[0m\u001b[0;34m)\u001b[0m\u001b[0;34m)\u001b[0m\u001b[0;34m\u001b[0m\u001b[0;34m\u001b[0m\u001b[0m\n\u001b[0m\u001b[1;32m      3\u001b[0m \u001b[0mquoc\u001b[0m \u001b[0;34m=\u001b[0m \u001b[0mnum\u001b[0m\u001b[0;34m//\u001b[0m\u001b[0;36m2\u001b[0m\u001b[0;34m\u001b[0m\u001b[0;34m\u001b[0m\u001b[0m\n\u001b[1;32m      4\u001b[0m \u001b[0mprint\u001b[0m\u001b[0;34m(\u001b[0m\u001b[0mquoc\u001b[0m\u001b[0;34m)\u001b[0m\u001b[0;34m\u001b[0m\u001b[0;34m\u001b[0m\u001b[0m\n",
            "\u001b[0;31mTypeError\u001b[0m: 'int' object is not callable"
          ]
        }
      ]
    }
  ]
}