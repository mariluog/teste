{
  "nbformat": 4,
  "nbformat_minor": 0,
  "metadata": {
    "colab": {
      "provenance": [],
      "authorship_tag": "ABX9TyOLBM5Azb+rtUusKfb70tMo",
      "include_colab_link": true
    },
    "kernelspec": {
      "name": "python3",
      "display_name": "Python 3"
    },
    "language_info": {
      "name": "python"
    }
  },
  "cells": [
    {
      "cell_type": "markdown",
      "metadata": {
        "id": "view-in-github",
        "colab_type": "text"
      },
      "source": [
        "<a href=\"https://colab.research.google.com/github/mariluog/teste/blob/main/Projeto_de_Algoritmos.ipynb\" target=\"_parent\"><img src=\"https://colab.research.google.com/assets/colab-badge.svg\" alt=\"Open In Colab\"/></a>"
      ]
    },
    {
      "cell_type": "code",
      "execution_count": 1,
      "metadata": {
        "colab": {
          "base_uri": "https://localhost:8080/"
        },
        "id": "KIGdEyZX9V4g",
        "outputId": "02fd1da6-bc88-4329-bcb4-fb68a7ab7c44"
      },
      "outputs": [
        {
          "output_type": "stream",
          "name": "stdout",
          "text": [
            "5\n"
          ]
        }
      ],
      "source": [
        "# ola a todos\n",
        "a = 2\n",
        "b = 3\n",
        "soma = a + b\n",
        "print(soma)\n"
      ]
    },
    {
      "cell_type": "markdown",
      "source": [
        "integrantes: maria luiza, ana julia e angelo\n",
        "\n",
        "ideias: site de apostas;\n",
        "\n",
        "jogo online (tetris)\n",
        "\n",
        "Aplicativo de Tarefas:\n",
        "\n",
        "Desenvolva um gerenciador de tarefas com funcionalidades para adicionar, remover e marcar tarefas como concluídas. Use uma interface gráfica com Tkinter ou uma API web com Flask.\n",
        "Analisador de Sentimentos:\n",
        "\n",
        "Crie um programa que analisa o sentimento de um texto (positivo, negativo ou neutro) usando bibliotecas como TextBlob ou NLTK.\n",
        "Gerador de Senhas:\n",
        "\n",
        "Crie um programa que gera senhas aleatórias com base em parâmetros definidos pelo usuário, como comprimento e complexidade.\n",
        "Simulador de Mercado Financeiro:\n",
        "\n",
        "Crie um simulador de mercado financeiro que permita aos usuários comprar e vender ações virtuais, simulando o mercado real.\n",
        "Bot de Chat Inteligente:\n",
        "\n",
        "Crie um chatbot usando processamento de linguagem natural (NLP) para interagir com os usuários e responder a perguntas comuns.\n",
        "\n",
        "(extensões: .py e .ipynb)\n"
      ],
      "metadata": {
        "id": "7sZ2uKM09cBW"
      }
    }
  ]
}