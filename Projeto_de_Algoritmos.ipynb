{
  "cells": [
    {
      "cell_type": "markdown",
      "metadata": {
        "id": "view-in-github",
        "colab_type": "text"
      },
      "source": [
        "<a href=\"https://colab.research.google.com/github/mariluog/teste/blob/main/Projeto_de_Algoritmos.ipynb\" target=\"_parent\"><img src=\"https://colab.research.google.com/assets/colab-badge.svg\" alt=\"Open In Colab\"/></a>"
      ]
    },
    {
      "cell_type": "code",
      "execution_count": null,
      "metadata": {
        "id": "hPf4nfkfHwsU"
      },
      "outputs": [],
      "source": [
        "class Item:\n",
        "    def __init__(self, nome, quantidade, preco):\n",
        "        self.nome = nome\n",
        "        self.quantidade = quantidade\n",
        "        self.preco = preco\n",
        "\n",
        "    def __str__(self):\n",
        "        return f\"{self.nome} - Quantidade: {self.quantidade}, Preço: R${self.preco:.2f}\"\n",
        "\n",
        "class Estoque:\n",
        "    def __init__(self):\n",
        "        self.itens = {}\n",
        "\n",
        "    def adicionar_item(self, nome, quantidade, preco):\n",
        "        if nome in self.itens:\n",
        "            self.itens[nome].quantidade += quantidade\n",
        "        else:\n",
        "            self.itens[nome] = Item(nome, quantidade, preco)\n",
        "\n",
        "    def remover_item(self, nome, quantidade):\n",
        "        if nome in self.itens:\n",
        "            if self.itens[nome].quantidade >= quantidade:\n",
        "                self.itens[nome].quantidade -= quantidade\n",
        "                if self.itens[nome].quantidade == 0:\n",
        "                    del self.itens[nome]\n",
        "            else:\n",
        "                print(\"Quantidade insuficiente para remover.\")\n",
        "        else:\n",
        "            print(\"Item não encontrado.\")\n",
        "\n",
        "    def listar_itens(self):\n",
        "        if not self.itens:\n",
        "            print(\"Estoque vazio.\")\n",
        "        else:\n",
        "            for item in self.itens.values():\n",
        "                print(item)\n",
        "\n",
        "    def valor_total_estoque(self):\n",
        "        total = sum(item.quantidade * item.preco for item in self.itens.values())\n",
        "        return total\n",
        "\n",
        "def menu():\n",
        "    estoque = Estoque()\n",
        "    while True:\n",
        "        print(\"\\n--- Sistema de Organização de Estoque ---\")\n",
        "        print(\"1. Adicionar Item\")\n",
        "        print(\"2. Remover Item\")\n",
        "        print(\"3. Listar Itens\")\n",
        "        print(\"4. Valor Total do Estoque\")\n",
        "        print(\"5. Sair\")\n",
        "\n",
        "        opcao = input(\"Escolha uma opção: \")\n",
        "\n",
        "        if opcao == '1':\n",
        "            nome = input(\"Nome do item: \")\n",
        "            quantidade = int(input(\"Quantidade: \"))\n",
        "            preco = float(input(\"Preço: \"))\n",
        "            estoque.adicionar_item(nome, quantidade, preco)\n",
        "            print(f\"Item '{nome}' adicionado com sucesso!\")\n",
        "\n",
        "        elif opcao == '2':\n",
        "            nome = input(\"Nome do item: \")\n",
        "            quantidade = int(input(\"Quantidade a remover: \"))\n",
        "            estoque.remover_item(nome, quantidade)\n",
        "\n",
        "        elif opcao == '3':\n",
        "            print(\"\\nItens no Estoque:\")\n",
        "            estoque.listar_itens()\n",
        "\n",
        "        elif opcao == '4':\n",
        "            total = estoque.valor_total_estoque()\n",
        "            print(f\"\\nValor total do estoque: R${total:.2f}\")\n",
        "\n",
        "        elif opcao == '5':\n",
        "            print(\"Saindo do sistema...\")\n",
        "            break\n",
        "\n",
        "        else:\n",
        "            print(\"Opção inválida! Tente novamente.\")\n",
        "\n",
        "if __name__ == \"__main__\":\n",
        "    menu()\n"
      ]
    },
    {
      "cell_type": "markdown",
      "source": [
        "conversar na proxima aula:\n",
        "- setorizar os estoques\n",
        "- colocar onde cada coisa está localizada (prateleiras)\n",
        "- arranjar um jeito que o código fique salvo mesmo depois de encerrar o programa\n"
      ],
      "metadata": {
        "id": "4tfItJ9Dk6gv"
      }
    }
  ],
  "metadata": {
    "colab": {
      "provenance": [],
      "authorship_tag": "ABX9TyP5S3j3fxS5ZfoI9HplNO6f",
      "include_colab_link": true
    },
    "kernelspec": {
      "display_name": "Python 3",
      "name": "python3"
    },
    "language_info": {
      "name": "python"
    }
  },
  "nbformat": 4,
  "nbformat_minor": 0
}