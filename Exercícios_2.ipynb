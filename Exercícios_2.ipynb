{
  "nbformat": 4,
  "nbformat_minor": 0,
  "metadata": {
    "colab": {
      "provenance": [],
      "authorship_tag": "ABX9TyNMhri55Dn7QbzF3C2c8UZ2",
      "include_colab_link": true
    },
    "kernelspec": {
      "name": "python3",
      "display_name": "Python 3"
    },
    "language_info": {
      "name": "python"
    }
  },
  "cells": [
    {
      "cell_type": "markdown",
      "metadata": {
        "id": "view-in-github",
        "colab_type": "text"
      },
      "source": [
        "<a href=\"https://colab.research.google.com/github/mariluog/teste/blob/main/Exerc%C3%ADcios_2.ipynb\" target=\"_parent\"><img src=\"https://colab.research.google.com/assets/colab-badge.svg\" alt=\"Open In Colab\"/></a>"
      ]
    },
    {
      "cell_type": "code",
      "execution_count": 1,
      "metadata": {
        "colab": {
          "base_uri": "https://localhost:8080/"
        },
        "id": "mGTpxCTlKl4v",
        "outputId": "81f76992-df7e-4721-e48b-d3dee68ca11b"
      },
      "outputs": [
        {
          "output_type": "stream",
          "name": "stdout",
          "text": [
            "Digite o raio da esfera: 1\n",
            "O volume da esfera é 4.1887902047863905\n"
          ]
        }
      ],
      "source": [
        "from math import pi\n",
        "2*pi*3 #This line calculates 2*pi*3 but doesn't assign it to a variable\n",
        "r = float(input(\"Digite o raio da esfera: \"))\n",
        "v = 4*pi*r**3/3\n",
        "print(\"O volume da esfera é\", v)"
      ]
    },
    {
      "cell_type": "code",
      "source": [
        "g = float(input(\"Digite ângulo em graus: \"))\n",
        "r = g*pi/180\n",
        "print(\"O ângulo em radianos é: \", r)"
      ],
      "metadata": {
        "colab": {
          "base_uri": "https://localhost:8080/"
        },
        "id": "_mVj-gWwKv-1",
        "outputId": "cb5995d8-5bb2-4d52-ec0f-8b6d09e71218"
      },
      "execution_count": 3,
      "outputs": [
        {
          "output_type": "stream",
          "name": "stdout",
          "text": [
            "Digite ângulo em graus: 5\n",
            "O ângulo em radianos é:  0.08726646259971647\n"
          ]
        }
      ]
    },
    {
      "cell_type": "code",
      "source": [
        "r = float(input(\"Digite o valor em radianos\"))\n",
        "g = r*180/pi\n",
        "print(\"O valor em graus é igual a: \", g)"
      ],
      "metadata": {
        "colab": {
          "base_uri": "https://localhost:8080/"
        },
        "id": "EFmI5zgTLQ2h",
        "outputId": "238949a5-026a-47dc-9c52-a6384b06e202"
      },
      "execution_count": 9,
      "outputs": [
        {
          "output_type": "stream",
          "name": "stdout",
          "text": [
            "Digite o valor em radianos5\n",
            "O valor em graus é igual a:  286.4788975654116\n"
          ]
        }
      ]
    },
    {
      "cell_type": "code",
      "source": [
        "r = float(input(\"Digite o ângulo em radianos: \"))\n"
      ],
      "metadata": {
        "id": "eJLikf2ELr0P"
      },
      "execution_count": null,
      "outputs": []
    }
  ]
}