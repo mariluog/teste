{
  "nbformat": 4,
  "nbformat_minor": 0,
  "metadata": {
    "colab": {
      "provenance": [],
      "authorship_tag": "ABX9TyMN/RkZ5BC8NJ9xS7gGwunX",
      "include_colab_link": true
    },
    "kernelspec": {
      "name": "python3",
      "display_name": "Python 3"
    },
    "language_info": {
      "name": "python"
    }
  },
  "cells": [
    {
      "cell_type": "markdown",
      "metadata": {
        "id": "view-in-github",
        "colab_type": "text"
      },
      "source": [
        "<a href=\"https://colab.research.google.com/github/mariluog/teste/blob/main/Untitled0.ipynb\" target=\"_parent\"><img src=\"https://colab.research.google.com/assets/colab-badge.svg\" alt=\"Open In Colab\"/></a>"
      ]
    },
    {
      "cell_type": "code",
      "execution_count": null,
      "metadata": {
        "colab": {
          "base_uri": "https://localhost:8080/"
        },
        "id": "quqA159eMp48",
        "outputId": "6ded841c-53b5-429f-f44d-f9d758b1e624"
      },
      "outputs": [
        {
          "output_type": "stream",
          "name": "stdout",
          "text": [
            "Digite um número inteiro: 5\n",
            " não é divisível por 3.\n"
          ]
        }
      ],
      "source": [
        "numero = int(input(\"Digite um número inteiro: \"))\n",
        "\n",
        "if numero % 3 == 0:\n",
        "    print(\" é divisível por 3.\")\n",
        "else:\n",
        "    print(\" não é divisível por 3.\")"
      ]
    },
    {
      "cell_type": "code",
      "source": [
        "a = int(input(\"Digite o primeiro número: \"))\n",
        "b = int(input(\"Digite o segundo número: \"))\n",
        "c = int(input(\"Digite o terceiro número: \"))\n",
        "\n",
        "if a <= b and a <= c:\n",
        "    print(f\"O menor número é {a}\")\n",
        "elif b <= a and b <= c:\n",
        "    print(f\"O menor número é {b}\")\n",
        "else:\n",
        "    print(f\"O menor número é {c}\")"
      ],
      "metadata": {
        "colab": {
          "base_uri": "https://localhost:8080/"
        },
        "id": "G0KpQzQhTrCH",
        "outputId": "4b4ceb6a-ec1d-4688-e85b-59e967e2b038"
      },
      "execution_count": null,
      "outputs": [
        {
          "output_type": "stream",
          "name": "stdout",
          "text": [
            "Digite o primeiro número: 8\n",
            "Digite o segundo número: 9\n",
            "Digite o terceiro número: 0\n",
            "O menor número é 0\n"
          ]
        }
      ]
    },
    {
      "cell_type": "markdown",
      "source": [
        "**LOOP DE REPETIÇÃO FOR**"
      ],
      "metadata": {
        "id": "251WaK9hXDdi"
      }
    },
    {
      "cell_type": "code",
      "source": [
        "for i in range(1,10,):\n",
        "  print(i)"
      ],
      "metadata": {
        "colab": {
          "base_uri": "https://localhost:8080/"
        },
        "id": "sUT74q2hXA4D",
        "outputId": "5bd69a24-079f-49eb-fd6b-1be9bd1f4c82"
      },
      "execution_count": null,
      "outputs": [
        {
          "output_type": "stream",
          "name": "stdout",
          "text": [
            "1\n",
            "2\n",
            "3\n",
            "4\n",
            "5\n",
            "6\n",
            "7\n",
            "8\n",
            "9\n"
          ]
        }
      ]
    },
    {
      "cell_type": "code",
      "source": [
        "while True:\n",
        "  # Pergunta ao usuário se deseja realizar a soma de duas variáveis\n",
        "  resposta = input(\"Deseja realizar a soma das duas variáveis? (S/N)\").strip().upper()\n",
        "\n",
        "  # Se a resposta for 'S', realiza a soma\n",
        "  if resposta == 'S':\n",
        "    # Solicita ao usuário que digite os valores das duas variáveis\n",
        "    var1 = float(input(\"Digite o valor da primeira variável: \"))\n",
        "    var2 = float(input(\"Digite o valor da segunda variável: \"))\n",
        "    # Realiza a soma das variáveis\n",
        "    soma = var1 + var2\n",
        "    # Exibe o resultado da soma\n",
        "    print(f\"A soma de {var1} e {var2} é: {soma:.2f}\\n\") # Removed extra parenthesis and fixed f-string formatting\n",
        "\n",
        "  # Se a resposta for 'N', termina o loop\n",
        "  elif resposta == 'N':\n",
        "    print(\"Operação finalizada.\")\n",
        "    break\n",
        "\n",
        "  # Caso o usuário insira uma resposta errada:\n",
        "  else:\n",
        "    print(\"Resposta inválida! Por favor, digite S para sim e N para não.\\n\")"
      ],
      "metadata": {
        "colab": {
          "base_uri": "https://localhost:8080/"
        },
        "id": "K5rQ214ZB0Ah",
        "outputId": "76093b39-2b4f-49c4-ae8c-e11dd2ccff9b"
      },
      "execution_count": null,
      "outputs": [
        {
          "output_type": "stream",
          "name": "stdout",
          "text": [
            "Deseja realizar a soma das duas variáveis? (S/N)g\n",
            "Resposta inválida! Por favor, digite S para sim e N para não.\n",
            "\n"
          ]
        }
      ]
    }
  ]
}